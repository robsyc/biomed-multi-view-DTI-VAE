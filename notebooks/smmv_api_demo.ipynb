{
 "cells": [
  {
   "cell_type": "markdown",
   "id": "bd25d090-ce29-4e3a-a84a-d1b69a6db9f2",
   "metadata": {},
   "source": [
    "# Using `biomed.sm.mv-te-84m` Models"
   ]
  },
  {
   "cell_type": "code",
   "execution_count": 1,
   "id": "48658b50",
   "metadata": {},
   "outputs": [
    {
     "name": "stderr",
     "output_type": "stream",
     "text": [
      "/home/robsyc/Desktop/thesis/biomed-multi-view-VAE/envs/biomed-multiview/lib/python3.11/site-packages/torch/cuda/__init__.py:138: UserWarning: CUDA initialization: CUDA unknown error - this may be due to an incorrectly set up environment, e.g. changing env variable CUDA_VISIBLE_DEVICES after program start. Setting the available devices to be zero. (Triggered internally at ../c10/cuda/CUDAFunctions.cpp:108.)\n",
      "  return torch._C._cuda_getDeviceCount() > 0\n",
      "2024-11-04 13:52:36,525 - rdkit - INFO - pop-os:139488664084224:0:0 - Enabling RDKit 2024.03.5 jupyter extensions\n"
     ]
    }
   ],
   "source": [
    "# Necessary Imports\n",
    "from bmfm_sm.api.smmv_api import SmallMoleculeMultiViewModel\n",
    "from bmfm_sm.core.data_modules.namespace import LateFusionStrategy\n",
    "from bmfm_sm.api.dataset_registry import DatasetRegistry\n",
    "\n",
    "from dataclasses import asdict\n",
    "import pandas as pd"
   ]
  },
  {
   "cell_type": "code",
   "execution_count": 7,
   "id": "d82cebf5",
   "metadata": {},
   "outputs": [
    {
     "name": "stderr",
     "output_type": "stream",
     "text": [
      "2024-11-04 13:55:28,768 - root - INFO - pop-os:139488664084224:0:0 - Loading checkpoint via HuggingFace Hub from provided path ibm/biomed.sm.mv-te-84m\n",
      "/home/robsyc/Desktop/thesis/biomed-multi-view-VAE/envs/biomed-multiview/lib/python3.11/site-packages/torchvision/models/_utils.py:208: UserWarning: The parameter 'pretrained' is deprecated since 0.13 and may be removed in the future, please use 'weights' instead.\n",
      "  warnings.warn(\n",
      "/home/robsyc/Desktop/thesis/biomed-multi-view-VAE/envs/biomed-multiview/lib/python3.11/site-packages/torchvision/models/_utils.py:223: UserWarning: Arguments other than a weight enum or `None` for 'weights' are deprecated since 0.13 and may be removed in the future. The current behavior is equivalent to passing `weights=None`.\n",
      "  warnings.warn(msg)\n",
      "2024-11-04 13:55:29,380 - root - INFO - pop-os:139488664084224:0:0 - Using coeff_mlp architecture for aggregator\n",
      "2024-11-04 13:55:29,380 - root - INFO - pop-os:139488664084224:0:0 - dim_list [512, 512, 768] for aggregator\n",
      "2024-11-04 13:55:29,548 - root - INFO - pop-os:139488664084224:0:0 - in train False setting deterministic_eval = True\n"
     ]
    }
   ],
   "source": [
    "model = SmallMoleculeMultiViewModel.from_pretrained(\n",
    "    LateFusionStrategy.ATTENTIONAL,\n",
    "    model_path='ibm/biomed.sm.mv-te-84m',\n",
    "    huggingface=True\n",
    ")"
   ]
  },
  {
   "cell_type": "code",
   "execution_count": 14,
   "id": "65e87a8c",
   "metadata": {},
   "outputs": [
    {
     "data": {
      "text/plain": [
       "512"
      ]
     },
     "execution_count": 14,
     "metadata": {},
     "output_type": "execute_result"
    }
   ],
   "source": [
    "from bmfm_sm.predictive.data_modules.graph_finetune_dataset import Graph2dFinetuneDataPipeline\n",
    "from bmfm_sm.predictive.data_modules.image_finetune_dataset import ImageFinetuneDataPipeline\n",
    "from bmfm_sm.predictive.data_modules.text_finetune_dataset import TextFinetuneDataPipeline\n",
    "\n",
    "smiles = \"CC(C)CC1=CC=C(C=C1)C(C)C(=O)O\"\n",
    "graph = Graph2dFinetuneDataPipeline.smiles_to_graph_format(smiles)\n",
    "text = TextFinetuneDataPipeline.smiles_to_text_format(smiles)\n",
    "image = ImageFinetuneDataPipeline.smiles_to_image_format(smiles)\n",
    "\n",
    "joint_dict = {}\n",
    "joint_dict.update(graph)\n",
    "joint_dict.update(text)\n",
    "joint_dict.update(image)\n",
    "embedding = model.get_embeddings(joint_dict, get_separate_embeddings=True)\n",
    "model.get_embed_dim()"
   ]
  },
  {
   "cell_type": "code",
   "execution_count": 18,
   "id": "6a6dbcac",
   "metadata": {},
   "outputs": [
    {
     "name": "stdout",
     "output_type": "stream",
     "text": [
      "Graph2dModel embeddings shape: torch.Size([1, 512])\n",
      "ImageModel embeddings shape: torch.Size([1, 512])\n",
      "TextModel embeddings shape: torch.Size([1, 768])\n"
     ]
    }
   ],
   "source": [
    "view_models = ['Graph2dModel', 'ImageModel', 'TextModel']\n",
    "for view in view_models:\n",
    "    print(f'{view} embeddings shape: {embedding[view].shape}')"
   ]
  },
  {
   "cell_type": "markdown",
   "id": "462384e6-fc62-4570-a06d-8ace2c07c8f7",
   "metadata": {},
   "source": [
    "- Pretrained and finetuned models available in [HuggingFace](https://huggingface.co/ibm/biomed.sm.mv-te-84m)\n",
    "- Original repo on [GitHub](https://github.com/BiomedSciAI/biomed-multi-view)"
   ]
  },
  {
   "cell_type": "markdown",
   "id": "d247e004",
   "metadata": {},
   "source": [
    "---\n",
    "---"
   ]
  }
 ],
 "metadata": {
  "kernelspec": {
   "display_name": "Python 3",
   "language": "python",
   "name": "python3"
  },
  "language_info": {
   "codemirror_mode": {
    "name": "ipython",
    "version": 3
   },
   "file_extension": ".py",
   "mimetype": "text/x-python",
   "name": "python",
   "nbconvert_exporter": "python",
   "pygments_lexer": "ipython3",
   "version": "3.11.10"
  }
 },
 "nbformat": 4,
 "nbformat_minor": 5
}
